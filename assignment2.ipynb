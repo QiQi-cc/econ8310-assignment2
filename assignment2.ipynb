{
  "cells": [
    {
      "cell_type": "code",
      "execution_count": 11,
      "id": "098b2971-5d7a-4d7f-aec2-3400a31a72b0",
      "metadata": {
        "id": "098b2971-5d7a-4d7f-aec2-3400a31a72b0"
      },
      "outputs": [],
      "source": [
        "# Random Forest\n",
        "\n",
        "import pandas as pd\n",
        "from sklearn.ensemble import RandomForestClassifier\n",
        "from sklearn.impute import SimpleImputer\n",
        "\n",
        "# Step 1: Load data directly from GitHub\n",
        "train = pd.read_csv(\"https://raw.githubusercontent.com/dustywhite7/econ8310-assignment2/main/assignment2train.csv\")\n",
        "test  = pd.read_csv(\"https://raw.githubusercontent.com/dustywhite7/econ8310-assignment2/main/assignment2test.csv\")\n",
        "\n",
        "# Step 2: Feature engineering\n",
        "def feature_engineer(df: pd.DataFrame) -> pd.DataFrame:\n",
        "    df = df.copy()\n",
        "    df.columns = [c.strip() for c in df.columns]\n",
        "\n",
        "    if \"DateTime\" in df.columns:\n",
        "        dt = pd.to_datetime(df[\"DateTime\"], errors=\"coerce\")\n",
        "        df[\"hour\"]  = dt.dt.hour\n",
        "        df[\"dow\"]   = dt.dt.dayofweek\n",
        "        df[\"month\"] = dt.dt.month\n",
        "\n",
        "    for c in (\"id\", \"DateTime\"):\n",
        "        if c in df.columns:\n",
        "            df.drop(columns=c, inplace=True)\n",
        "\n",
        "    return df\n",
        "\n",
        "train = feature_engineer(train)\n",
        "test  = feature_engineer(test)\n",
        "\n",
        "# Step 3: Split features\n",
        "y = train[\"meal\"].astype(int)\n",
        "X = train.drop(columns=[\"meal\"])\n",
        "\n",
        "# Step 4: Impute\n",
        "imputer = SimpleImputer(strategy=\"most_frequent\")\n",
        "X_imputed_array = imputer.fit_transform(X)\n",
        "X_imputed = pd.DataFrame(X_imputed_array, columns=X.columns, index=X.index)\n",
        "\n",
        "# Step 5: Define model and fit THE SAME INSTANCE\n",
        "model = RandomForestClassifier(\n",
        "    n_estimators=500,\n",
        "    max_features=\"sqrt\",\n",
        "    min_samples_leaf=2,\n",
        "    random_state=42,\n",
        "    n_jobs=-1,\n",
        ")\n",
        "modelFit = model.fit(X_imputed, y)\n",
        "\n",
        "# Step 6: Align test columns and impute (also keep DataFrame)\n",
        "for col in X.columns:\n",
        "    if col not in test.columns:\n",
        "        test[col] = 0\n",
        "test = test[X.columns]\n",
        "\n",
        "X_test_array = imputer.transform(test)\n",
        "X_test = pd.DataFrame(X_test_array, columns=test.columns, index=test.index)  # <- keep names\n",
        "\n",
        "# Step 7: Predict\n",
        "pred = [int(x) for x in modelFit.predict(X_test)]\n",
        "\n",
        "\n"
      ]
    }
  ],
  "metadata": {
    "kernelspec": {
      "display_name": "Python 3 (ipykernel)",
      "language": "python",
      "name": "python3"
    },
    "language_info": {
      "codemirror_mode": {
        "name": "ipython",
        "version": 3
      },
      "file_extension": ".py",
      "mimetype": "text/x-python",
      "name": "python",
      "nbconvert_exporter": "python",
      "pygments_lexer": "ipython3",
      "version": "3.9.13"
    },
    "colab": {
      "provenance": []
    }
  },
  "nbformat": 4,
  "nbformat_minor": 5
}