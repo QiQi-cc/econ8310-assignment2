{
  "cells": [
    {
      "cell_type": "code",
      "execution_count": 2,
      "id": "098b2971-5d7a-4d7f-aec2-3400a31a72b0",
      "metadata": {
        "id": "098b2971-5d7a-4d7f-aec2-3400a31a72b0"
      },
      "outputs": [],
      "source": [
        "# I choose Random Forest\n",
        "\n",
        "import pandas as pd\n",
        "from sklearn.ensemble import RandomForestClassifier\n",
        "from sklearn.impute import SimpleImputer\n",
        "\n",
        "# Load training and testing data\n",
        "train = pd.read_csv(\"https://github.com/dustywhite7/Econ8310/raw/master/AssignmentData/assignment3.csv\")\n",
        "test = pd.read_csv(\"https://github.com/dustywhite7/Econ8310/raw/master/AssignmentData/assignment3test.csv\")\n",
        "\n",
        "# Feature engineering\n",
        "def feature_engineer(df):\n",
        "    df = df.copy()\n",
        "    df.columns = [c.strip() for c in df.columns]  # clean column names\n",
        "\n",
        "    # Convert DateTime to useful numeric features\n",
        "    if \"DateTime\" in df.columns:\n",
        "        dt = pd.to_datetime(df[\"DateTime\"], errors=\"coerce\")\n",
        "        df[\"hour\"] = dt.dt.hour\n",
        "        df[\"dow\"] = dt.dt.dayofweek\n",
        "        df[\"month\"] = dt.dt.month\n",
        "\n",
        "    # Drop ID-like or raw datetime columns\n",
        "    for col in [\"id\", \"DateTime\"]:\n",
        "        if col in df.columns:\n",
        "            df.drop(columns=col, inplace=True)\n",
        "\n",
        "    return df\n",
        "\n",
        "train = feature_engineer(train)\n",
        "test = feature_engineer(test)\n",
        "\n",
        "# Split features and target\n",
        "y = train[\"meal\"].astype(int)\n",
        "X = train.drop(columns=[\"meal\"])\n",
        "\n",
        "# Handle missing values\n",
        "imputer = SimpleImputer(strategy=\"most_frequent\")\n",
        "X_imputed = imputer.fit_transform(X)\n",
        "\n",
        "# Define model\n",
        "def model(random_state=42):\n",
        "    return RandomForestClassifier(\n",
        "        n_estimators=300,\n",
        "        random_state=random_state,\n",
        "        n_jobs=-1,\n",
        "        class_weight=\"balanced_subsample\"\n",
        "    )\n",
        "\n",
        "# Train model\n",
        "modelFit = model()\n",
        "modelFit.fit(X_imputed, y)\n",
        "\n",
        "# Prepare test data and predict\n",
        "\n",
        "# Align columns\n",
        "for col in X.columns:\n",
        "    if col not in test.columns:\n",
        "        test[col] = 0\n",
        "test = test[X.columns]\n",
        "\n",
        "# Impute missing values and predict\n",
        "X_test = imputer.transform(test)\n",
        "pred = pd.Series(modelFit.predict(X_test), name=\"pred\")\n"
      ]
    }
  ],
  "metadata": {
    "kernelspec": {
      "display_name": "Python 3 (ipykernel)",
      "language": "python",
      "name": "python3"
    },
    "language_info": {
      "codemirror_mode": {
        "name": "ipython",
        "version": 3
      },
      "file_extension": ".py",
      "mimetype": "text/x-python",
      "name": "python",
      "nbconvert_exporter": "python",
      "pygments_lexer": "ipython3",
      "version": "3.9.13"
    },
    "colab": {
      "provenance": []
    }
  },
  "nbformat": 4,
  "nbformat_minor": 5
}