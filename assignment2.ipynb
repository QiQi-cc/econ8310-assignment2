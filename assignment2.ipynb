{
  "cells": [
    {
      "cell_type": "code",
      "source": [
        "# I choose random forest\n",
        "from pathlib import Path\n",
        "import pandas as pd\n",
        "from sklearn.ensemble import RandomForestClassifier\n",
        "from sklearn.impute import SimpleImputer\n",
        "\n",
        "# Step 1: load CSVs\n",
        "TRAIN_LOCAL = Path(\"assignment2train.csv\")\n",
        "TEST_LOCAL  = Path(\"assignment2test.csv\")\n",
        "TRAIN_URL = \"https://raw.githubusercontent.com/dustywhite7/econ8310-assignment2/main/assignment2train.csv\"\n",
        "TEST_URL  = \"https://raw.githubusercontent.com/dustywhite7/econ8310-assignment2/main/assignment2test.csv\"\n",
        "\n",
        "def read_csv_safely(local_path: Path, url: str) -> pd.DataFrame:\n",
        "    if local_path.exists():\n",
        "        return pd.read_csv(local_path)\n",
        "    print(f\" Local file {local_path} not found, using GitHub version.\")\n",
        "    return pd.read_csv(url)\n",
        "\n",
        "train = read_csv_safely(TRAIN_LOCAL, TRAIN_URL)\n",
        "test  = read_csv_safely(TEST_LOCAL,  TEST_URL)\n",
        "\n",
        "# Step 2: feature engineering\n",
        "def feature_engineer(df: pd.DataFrame) -> pd.DataFrame:\n",
        "    d = df.copy()\n",
        "    d.columns = [c.strip() for c in d.columns]\n",
        "\n",
        "    if \"DateTime\" in d.columns:\n",
        "        dt = pd.to_datetime(d[\"DateTime\"], errors=\"coerce\")\n",
        "        d[\"hour\"]  = dt.dt.hour\n",
        "        d[\"dow\"]   = dt.dt.dayofweek\n",
        "        d[\"month\"] = dt.dt.month\n",
        "        d[\"is_breakfast\"] = d[\"hour\"].between(6,10).astype(int)\n",
        "        d[\"is_lunch\"]     = d[\"hour\"].between(11,14).astype(int)\n",
        "        d[\"is_afternoon\"] = d[\"hour\"].between(15,17).astype(int)\n",
        "        d[\"is_dinner\"]    = d[\"hour\"].between(18,21).astype(int)\n",
        "        d[\"is_weekend\"]   = d[\"dow\"].isin([5,6]).astype(int)\n",
        "\n",
        "    for col in [\"Total\",\"Discounts\"]:\n",
        "        if col in d.columns:\n",
        "            d[col] = pd.to_numeric(d[col], errors=\"coerce\")\n",
        "\n",
        "    if \"Total\" in d.columns:\n",
        "        d[\"Total_capped\"] = d[\"Total\"].clip(lower=0, upper=d[\"Total\"].quantile(0.99))\n",
        "        d[\"is_total_ge5\"] = (d[\"Total\"] >= 5).astype(int)\n",
        "        d[\"is_total_ge8\"] = (d[\"Total\"] >= 8).astype(int)\n",
        "\n",
        "    if \"Discounts\" in d.columns:\n",
        "        d[\"Discounts_capped\"] = d[\"Discounts\"].clip(lower=0, upper=d[\"Discounts\"].quantile(0.99))\n",
        "\n",
        "    for c in (\"id\",\"DateTime\"):\n",
        "        if c in d.columns:\n",
        "            d.drop(columns=c, inplace=True)\n",
        "\n",
        "    return d\n",
        "\n",
        "train = feature_engineer(train)\n",
        "test  = feature_engineer(test)\n",
        "\n",
        "# Step 3: prepare X, y & imputer\n",
        "y = train[\"meal\"].astype(int)\n",
        "X = train.drop(columns=[\"meal\"])\n",
        "imputer = SimpleImputer(strategy=\"most_frequent\")\n",
        "X_imputed = imputer.fit_transform(X)\n",
        "\n",
        "# Step 4: define model, then produce fitted clone\n",
        "model = RandomForestClassifier(\n",
        "    n_estimators=600,\n",
        "    max_features=\"sqrt\",\n",
        "    min_samples_leaf=1,\n",
        "    bootstrap=True,\n",
        "    class_weight=None,\n",
        "    random_state=42,\n",
        "    n_jobs=-1,\n",
        ")\n",
        "\n",
        "\n",
        "modelFit = RandomForestClassifier(**model.get_params())\n",
        "modelFit.fit(X_imputed, y)\n",
        "\n",
        "# Step 5: align test columns, impute, predict\n",
        "for col in X.columns:\n",
        "    if col not in test.columns:\n",
        "        test[col] = 0\n",
        "test = test[X.columns]\n",
        "X_test = imputer.transform(test)\n",
        "\n",
        "pred = [int(x) for x in modelFit.predict(X_test)]\n",
        "\n",
        "\n",
        "\n",
        "\n",
        "\n",
        "\n"
      ],
      "metadata": {
        "colab": {
          "base_uri": "https://localhost:8080/"
        },
        "id": "eejjlUhODPHj",
        "outputId": "37a291b8-5abf-4f46-c011-50b0948f8249"
      },
      "id": "eejjlUhODPHj",
      "execution_count": 21,
      "outputs": [
        {
          "output_type": "stream",
          "name": "stdout",
          "text": [
            " Local file assignment2train.csv not found, using GitHub version.\n",
            " Local file assignment2test.csv not found, using GitHub version.\n",
            "isinstance(modelFit, RFC): True\n",
            "fitted attrs present     : True True\n",
            "model is fitted?         : False\n"
          ]
        }
      ]
    }
  ],
  "metadata": {
    "kernelspec": {
      "display_name": "Python 3 (ipykernel)",
      "language": "python",
      "name": "python3"
    },
    "language_info": {
      "codemirror_mode": {
        "name": "ipython",
        "version": 3
      },
      "file_extension": ".py",
      "mimetype": "text/x-python",
      "name": "python",
      "nbconvert_exporter": "python",
      "pygments_lexer": "ipython3",
      "version": "3.9.13"
    },
    "colab": {
      "provenance": []
    }
  },
  "nbformat": 4,
  "nbformat_minor": 5
}